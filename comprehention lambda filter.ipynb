{
 "cells": [
  {
   "cell_type": "markdown",
   "id": "b308ccd8",
   "metadata": {},
   "source": [
    "## Filter\n",
    "The filter() method filters the given sequence with the help of a function that tests each element in the sequence to be true or not."
   ]
  },
  {
   "cell_type": "code",
   "execution_count": 1,
   "id": "410cbdd9",
   "metadata": {},
   "outputs": [
    {
     "name": "stdout",
     "output_type": "stream",
     "text": [
      "The filtered letters are:\n",
      "e\n",
      "e\n"
     ]
    }
   ],
   "source": [
    "# function that filters vowels\n",
    "def fun(variable):\n",
    "    letters = ['a', 'e', 'i', 'o', 'u']\n",
    "    if (variable in letters):\n",
    "        return True\n",
    "    else:\n",
    "        return False\n",
    "  \n",
    "  \n",
    "# sequence\n",
    "sequence = ['g', 'e', 'e', 'j', 'k', 's', 'p', 'r']\n",
    "  \n",
    "# using filter function\n",
    "filtered = filter(fun, sequence)\n",
    "  \n",
    "print('The filtered letters are:')\n",
    "for s in filtered:\n",
    "    print(s)"
   ]
  },
  {
   "cell_type": "markdown",
   "id": "4021d751",
   "metadata": {},
   "source": [
    "## Comprehention\n",
    "Comprehensions in Python provide us with a short and concise way to construct new sequences (such as lists, set, dictionary etc.) using sequences which have been already defined. Python supports the following 4 types of comprehensions:\n",
    "\n",
    "List Comprehensions\n",
    "Dictionary Comprehensions\n",
    "Set Comprehensions\n",
    "Generator Comprehensions"
   ]
  },
  {
   "cell_type": "code",
   "execution_count": 10,
   "id": "2e660a07",
   "metadata": {},
   "outputs": [],
   "source": [
    "l1 = ['a', 'e', 'i', 'o', 'u']\n",
    "l2 = ['g', 'e', 'e', 'j', 'k']\n",
    "dic={k:v for k,v in zip(l1,l2)}\n",
    "tup=[(k,v) for k,v in zip(l1,l2)]"
   ]
  },
  {
   "cell_type": "code",
   "execution_count": 11,
   "id": "512e93e1",
   "metadata": {},
   "outputs": [
    {
     "name": "stdout",
     "output_type": "stream",
     "text": [
      "{'a': 'g', 'e': 'e', 'i': 'e', 'o': 'j', 'u': 'k'}\n",
      "[('a', 'g'), ('e', 'e'), ('i', 'e'), ('o', 'j'), ('u', 'k')]\n"
     ]
    }
   ],
   "source": [
    "print(dic)\n",
    "print(tup)"
   ]
  },
  {
   "cell_type": "markdown",
   "id": "ce5b3539",
   "metadata": {},
   "source": [
    "## Lambda\n",
    "This helps to crease a sort and concise functions with an expression.\n",
    "lambda doesnot support more than one expressions."
   ]
  },
  {
   "cell_type": "code",
   "execution_count": 7,
   "id": "62161457",
   "metadata": {},
   "outputs": [
    {
     "data": {
      "text/plain": [
       "15"
      ]
     },
     "execution_count": 7,
     "metadata": {},
     "output_type": "execute_result"
    }
   ],
   "source": [
    "a=lambda x: 5*x\n",
    "a(3)"
   ]
  },
  {
   "cell_type": "code",
   "execution_count": 8,
   "id": "b57a5f08",
   "metadata": {},
   "outputs": [
    {
     "data": {
      "text/plain": [
       "3"
      ]
     },
     "execution_count": 8,
     "metadata": {},
     "output_type": "execute_result"
    }
   ],
   "source": [
    "b=lambda x,a: x//a\n",
    "b(7,2)"
   ]
  },
  {
   "cell_type": "code",
   "execution_count": 14,
   "id": "f103782d",
   "metadata": {},
   "outputs": [
    {
     "data": {
      "text/plain": [
       "12"
      ]
     },
     "execution_count": 14,
     "metadata": {},
     "output_type": "execute_result"
    }
   ],
   "source": [
    "def add(p):\n",
    "    return lambda a : a*p\n",
    "add(6)(2)"
   ]
  },
  {
   "cell_type": "code",
   "execution_count": null,
   "id": "5c76cc01",
   "metadata": {},
   "outputs": [],
   "source": []
  }
 ],
 "metadata": {
  "kernelspec": {
   "display_name": "Python 3",
   "language": "python",
   "name": "python3"
  },
  "language_info": {
   "codemirror_mode": {
    "name": "ipython",
    "version": 3
   },
   "file_extension": ".py",
   "mimetype": "text/x-python",
   "name": "python",
   "nbconvert_exporter": "python",
   "pygments_lexer": "ipython3",
   "version": "3.8.5"
  }
 },
 "nbformat": 4,
 "nbformat_minor": 5
}
